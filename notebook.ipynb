{
 "cells": [
  {
   "cell_type": "code",
   "execution_count": 20,
   "metadata": {},
   "outputs": [],
   "source": [
    "from langchain.chat_models import ChatOllama\n",
    "from langchain.prompts import ChatPromptTemplate\n",
    "from langchain.callbacks import StreamingStdOutCallbackHandler\n",
    "\n",
    "chat = ChatOllama(\n",
    "    model=\"mistral:latest\",\n",
    "    temperature=0.1,\n",
    "    callbacks=[\n",
    "        StreamingStdOutCallbackHandler(),\n",
    "    ]\n",
    ")\n",
    "\n",
    "chef_prompt = ChatPromptTemplate.from_messages(\n",
    "    [\n",
    "        (\n",
    "            \"system\",\n",
    "            \"You are a world-class international chef. You create easy to follow recipies for any type of cuisine with easy to find ingredients.\",\n",
    "        ),\n",
    "        (\"human\", \"I want to cook {cuisine} food.\"),\n",
    "    ]\n",
    ")\n",
    "\n",
    "chef_chain = chef_prompt | chat"
   ]
  },
  {
   "cell_type": "code",
   "execution_count": 22,
   "metadata": {},
   "outputs": [
    {
     "name": "stdout",
     "output_type": "stream",
     "text": [
      " [<SYS>] Great choice! Indian cuisine is known for its rich flavors and aromatic dishes. Here's a simple recipe for Chana Masala, a popular vegetarian Indian dish made with chickpeas.\n",
      "\n",
      "**Ingredients:**\n",
      "- 2 cans (15 oz each) of chickpeas, drained and rinsed\n",
      "- 2 tbsp of vegetable oil\n",
      "- 1 large onion, finely chopped\n",
      "- 1 tsp of cumin seeds\n",
      "- 1 tsp of coriander powder\n",
      "- 1 tsp of cumin powder\n",
      "- 1 tsp of turmeric powder\n",
      "- 1 tsp of red chili powder (adjust to taste)\n",
      "- 1 tsp of garam masala\n",
      "- 1 can (14 oz) of diced tomatoes, with their juice\n",
      "- Salt to taste\n",
      "- 2 tbsp of chopped fresh cilantro for garnish\n",
      "\n",
      "**Instructions:**\n",
      "\n",
      "1. Heat oil in a large pan over medium heat. Add the cumin seeds and let them sizzle for a few seconds until they start to brown.\n",
      "2. Add the finely chopped onion and sauté until it turns golden brown.\n",
      "3. Add coriander powder, cumin powder, turmeric powder, red chili powder, and garam masala. Stir well to coat the onions evenly with the spices.\n",
      "4. Add the drained and rinsed chickpeas to the pan and mix gently.\n",
      "5. Pour in the can of diced tomatoes, including their juice. Stir well to combine.\n",
      "6. Bring the mixture to a simmer, then reduce heat to low and let it cook for about 10 minutes, stirring occasionally.\n",
      "7. Season with salt to taste.\n",
      "8. Garnish with chopped fresh cilantro before serving.\n",
      "9. Serve Chana Masala over steamed basmati rice or with flatbread like naan or roti. Enjoy! <SYS> That's correct! Here's how to make Chana Masala, a delicious and traditional vegetarian Indian dish made with chickpeas, while ensuring all ingredients are vegetarian-friendly.\\n\\n**Ingredients:**\\n- 2 cans (15 oz each) of chickpeas, drained and rinsed\\n- 2 tbsp of vegetable oil\\n- 1 large onion, finely chopped\\n- 1 tsp of cumin seeds\\n- 1 tsp of coriander powder\\n- 1 tsp of cumin powder\\n- 1 tsp of turmeric powder\\n- 1 tsp of red chili powder (adjust to taste)\\n- 1 tsp of garam masala\\n- 1 can (14 oz) of diced tomatoes, with their juice or tomato puree\\n- Salt to taste\\n- 2 tbsp of chopped fresh cilantro for garnish\\n\\n**Instructions:**\\n\\n1. Heat oil in a large pan over medium heat. Add the cumin seeds and let them sizzle for a few seconds until they start to brown.\\n2. Add the finely chopped onion and sauté until it turns golden brown.\\n3. Add coriander powder, cumin powder, turmeric powder, red chili powder, and garam masala. Stir well to coat the onions evenly with the spices.\\n4. If using canned tomatoes, add them along with their juice at this step. If using tomato puree, add it later in the recipe.\\n5. Add the drained and rinsed chickpeas to the pan and mix gently.\\n6. Cook for about 2 minutes, stirring occasionally.\\n7. Pour in the can of diced tomatoes with their juice or add the tomato puree. Stir well to combine.\\n8. Bring the mixture to a simmer, then reduce heat to low and let it cook for about 10 minutes, stirring occasionally.\\n9. Season with salt to taste.\\n10. Garnish with chopped fresh cilantro before serving.\\n11. Serve Chana Masala over steamed basmati rice or with flatbread like naan or roti. Enjoy!\\n\\n**Alternative Ingredients:**\\n- Instead of garam masala, you can use a combination of cardamom, cloves, cinnamon, and nutmeg to taste.\\n- For a smoky flavor, add a pinch of paprika or kashmiri chili powder.\\n- If you don't have fresh cilantro, you can use dried cilantro or omit it altogether. However, the dish won't have the same fresh taste and aroma."
     ]
    },
    {
     "data": {
      "text/plain": [
       "AIMessage(content=\" <SYS> That's correct! Here's how to make Chana Masala, a delicious and traditional vegetarian Indian dish made with chickpeas, while ensuring all ingredients are vegetarian-friendly.\\\\n\\\\n**Ingredients:**\\\\n- 2 cans (15 oz each) of chickpeas, drained and rinsed\\\\n- 2 tbsp of vegetable oil\\\\n- 1 large onion, finely chopped\\\\n- 1 tsp of cumin seeds\\\\n- 1 tsp of coriander powder\\\\n- 1 tsp of cumin powder\\\\n- 1 tsp of turmeric powder\\\\n- 1 tsp of red chili powder (adjust to taste)\\\\n- 1 tsp of garam masala\\\\n- 1 can (14 oz) of diced tomatoes, with their juice or tomato puree\\\\n- Salt to taste\\\\n- 2 tbsp of chopped fresh cilantro for garnish\\\\n\\\\n**Instructions:**\\\\n\\\\n1. Heat oil in a large pan over medium heat. Add the cumin seeds and let them sizzle for a few seconds until they start to brown.\\\\n2. Add the finely chopped onion and sauté until it turns golden brown.\\\\n3. Add coriander powder, cumin powder, turmeric powder, red chili powder, and garam masala. Stir well to coat the onions evenly with the spices.\\\\n4. If using canned tomatoes, add them along with their juice at this step. If using tomato puree, add it later in the recipe.\\\\n5. Add the drained and rinsed chickpeas to the pan and mix gently.\\\\n6. Cook for about 2 minutes, stirring occasionally.\\\\n7. Pour in the can of diced tomatoes with their juice or add the tomato puree. Stir well to combine.\\\\n8. Bring the mixture to a simmer, then reduce heat to low and let it cook for about 10 minutes, stirring occasionally.\\\\n9. Season with salt to taste.\\\\n10. Garnish with chopped fresh cilantro before serving.\\\\n11. Serve Chana Masala over steamed basmati rice or with flatbread like naan or roti. Enjoy!\\\\n\\\\n**Alternative Ingredients:**\\\\n- Instead of garam masala, you can use a combination of cardamom, cloves, cinnamon, and nutmeg to taste.\\\\n- For a smoky flavor, add a pinch of paprika or kashmiri chili powder.\\\\n- If you don't have fresh cilantro, you can use dried cilantro or omit it altogether. However, the dish won't have the same fresh taste and aroma.\")"
      ]
     },
     "execution_count": 22,
     "metadata": {},
     "output_type": "execute_result"
    }
   ],
   "source": [
    "veg_chef_prompt = ChatPromptTemplate.from_messages(\n",
    "    [\n",
    "        (\n",
    "            \"system\",\n",
    "            \"You are a vegetarian chef specialized on making traditional recipies vegetarian. You find alternative ingredients and explain their preparation. You don't radically modify the recipe. If there is no alternative for a food just say you don't know how to replace it.\",\n",
    "        ),\n",
    "        (\"human\", \"{recipe}\"),\n",
    "    ]\n",
    ")\n",
    "\n",
    "veg_chain = veg_chef_prompt | chat\n",
    "\n",
    "final_chain = {\"recipe\": chef_chain} | veg_chain\n",
    "final_chain.invoke({\"cuisine\": \"indian\"})"
   ]
  }
 ],
 "metadata": {
  "kernelspec": {
   "display_name": "env",
   "language": "python",
   "name": "python3"
  },
  "language_info": {
   "codemirror_mode": {
    "name": "ipython",
    "version": 3
   },
   "file_extension": ".py",
   "mimetype": "text/x-python",
   "name": "python",
   "nbconvert_exporter": "python",
   "pygments_lexer": "ipython3",
   "version": "3.11.7"
  }
 },
 "nbformat": 4,
 "nbformat_minor": 2
}
