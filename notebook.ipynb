{
 "cells": [
  {
   "cell_type": "code",
   "execution_count": 18,
   "metadata": {},
   "outputs": [
    {
     "name": "stdout",
     "output_type": "stream",
     "text": [
      " 이 데이터는 Facture data, 즉 발주 data입니다. 각 행에는 하나의 발주에 대한 정보가 있습니다.\n",
      "\n",
      "InvoiceNo: 인voice number, 발주 번호입니다.\n",
      "StockCode: stock code, 재고 코드입니다.\n",
      "Description: description, 설명입니다.\n",
      "Quantity: quantity, 수량입니다.\n",
      "InvoiceDate: invoice date, 발주일자입니다.\n",
      "UnitPrice: unit price, 단위가격입니다.\n",
      "CustomerID: customer id, 고객 id입니다.\n",
      "Country: country, 국가입니다.\n",
      "\n",
      "따라서, 이 데이터에서는 각 발주에 대한 재고코드, 수량, 단위가격, 고객id, 발주일자, 고객 나라 정보가 있습니다."
     ]
    },
    {
     "data": {
      "text/plain": [
       "' 이 데이터는 Facture data, 즉 발주 data입니다. 각 행에는 하나의 발주에 대한 정보가 있습니다.\\n\\nInvoiceNo: 인voice number, 발주 번호입니다.\\nStockCode: stock code, 재고 코드입니다.\\nDescription: description, 설명입니다.\\nQuantity: quantity, 수량입니다.\\nInvoiceDate: invoice date, 발주일자입니다.\\nUnitPrice: unit price, 단위가격입니다.\\nCustomerID: customer id, 고객 id입니다.\\nCountry: country, 국가입니다.\\n\\n따라서, 이 데이터에서는 각 발주에 대한 재고코드, 수량, 단위가격, 고객id, 발주일자, 고객 나라 정보가 있습니다.'"
      ]
     },
     "execution_count": 18,
     "metadata": {},
     "output_type": "execute_result"
    }
   ],
   "source": [
    "from langchain.chat_models import ChatOllama\n",
    "from langchain.callbacks import StreamingStdOutCallbackHandler\n",
    "from langchain.document_loaders import CSVLoader\n",
    "from langchain.embeddings import OllamaEmbeddings, CacheBackedEmbeddings\n",
    "from langchain.vectorstores.faiss import FAISS\n",
    "from langchain.storage import LocalFileStore\n",
    "from langchain.chains import RetrievalQA\n",
    "\n",
    "chat = ChatOllama(\n",
    "    model=\"mistral:latest\",\n",
    "    temperature=0.1,\n",
    "    callbacks=[\n",
    "        StreamingStdOutCallbackHandler(),\n",
    "    ]\n",
    ")\n",
    "\n",
    "loader = CSVLoader(\"./file/data.csv\")\n",
    "docs = loader.load_and_split()\n",
    "\n",
    "embeddings = OllamaEmbeddings(\n",
    "    model=\"mistral:latest\"\n",
    ")\n",
    "\n",
    "cache_dir = LocalFileStore(\"./.cache/\")\n",
    "cached_embeddings = CacheBackedEmbeddings.from_bytes_store(embeddings, cache_dir)\n",
    "\n",
    "vectorStore = FAISS.from_documents(docs, cached_embeddings)\n",
    "\n",
    "chain = RetrievalQA.from_chain_type(\n",
    "    llm=chat,\n",
    "    chain_type=\"stuff\",\n",
    "    retriever=vectorStore.as_retriever()\n",
    ")\n",
    "\n",
    "chain.run(\"Tell me about the data. explain in Korean.\")\n"
   ]
  }
 ],
 "metadata": {
  "kernelspec": {
   "display_name": "env",
   "language": "python",
   "name": "python3"
  },
  "language_info": {
   "codemirror_mode": {
    "name": "ipython",
    "version": 3
   },
   "file_extension": ".py",
   "mimetype": "text/x-python",
   "name": "python",
   "nbconvert_exporter": "python",
   "pygments_lexer": "ipython3",
   "version": "3.11.7"
  }
 },
 "nbformat": 4,
 "nbformat_minor": 2
}
