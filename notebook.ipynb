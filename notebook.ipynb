{
 "cells": [
  {
   "cell_type": "code",
   "execution_count": 25,
   "metadata": {},
   "outputs": [
    {
     "name": "stdout",
     "output_type": "stream",
     "text": [
      " 저기에는 CSV 파일 './file/data.csv'에서 추출한 데이터 4개가 있습니다. 각 데이터는 \"InvoiceNo\", \"StockCode\", \"Description\", \"Quantity\", \"InvoiceDate\", \"UnitPrice\", \"CustomerID\", \"Country\" 라는 필드로 구성되어 있습니다. 단순히 데이터의 존재에 대해 설명하고 있습니다. 데이터에서 특정 값을 추출하려면 더욱 자세한 질문을 주시면 답변하도록 할게요. (There are four pieces of data extracted from the CSV file './file/data.csv'. Each data consists of fields \"InvoiceNo\", \"StockCode\", \"Description\", \"Quantity\", \"InvoiceDate\", \"UnitPrice\", \"CustomerID\", \"Country\". I'm just explaining that these data exist. If you want to extract specific values from the data, please ask more specifically.)"
     ]
    },
    {
     "data": {
      "text/plain": [
       "AIMessage(content=' 저기에는 CSV 파일 \\'./file/data.csv\\'에서 추출한 데이터 4개가 있습니다. 각 데이터는 \"InvoiceNo\", \"StockCode\", \"Description\", \"Quantity\", \"InvoiceDate\", \"UnitPrice\", \"CustomerID\", \"Country\" 라는 필드로 구성되어 있습니다. 단순히 데이터의 존재에 대해 설명하고 있습니다. 데이터에서 특정 값을 추출하려면 더욱 자세한 질문을 주시면 답변하도록 할게요. (There are four pieces of data extracted from the CSV file \\'./file/data.csv\\'. Each data consists of fields \"InvoiceNo\", \"StockCode\", \"Description\", \"Quantity\", \"InvoiceDate\", \"UnitPrice\", \"CustomerID\", \"Country\". I\\'m just explaining that these data exist. If you want to extract specific values from the data, please ask more specifically.)')"
      ]
     },
     "execution_count": 25,
     "metadata": {},
     "output_type": "execute_result"
    }
   ],
   "source": [
    "from langchain.chat_models import ChatOllama\n",
    "from langchain.callbacks import StreamingStdOutCallbackHandler\n",
    "from langchain.document_loaders import CSVLoader\n",
    "from langchain.embeddings import OllamaEmbeddings, CacheBackedEmbeddings\n",
    "from langchain.vectorstores.faiss import FAISS\n",
    "from langchain.storage import LocalFileStore\n",
    "from langchain.prompts import ChatPromptTemplate\n",
    "from langchain.schema.runnable import RunnablePassthrough\n",
    "\n",
    "llm = ChatOllama(\n",
    "    model=\"mistral:latest\",\n",
    "    temperature=0.1,\n",
    "    callbacks=[\n",
    "        StreamingStdOutCallbackHandler(),\n",
    "    ]\n",
    ")\n",
    "\n",
    "loader = CSVLoader(\"./file/data.csv\")\n",
    "docs = loader.load_and_split()\n",
    "\n",
    "embeddings = OllamaEmbeddings(\n",
    "    model=\"mistral:latest\"\n",
    ")\n",
    "\n",
    "cache_dir = LocalFileStore(\"./.cache/\")\n",
    "cached_embeddings = CacheBackedEmbeddings.from_bytes_store(embeddings, cache_dir)\n",
    "\n",
    "vectorStore = FAISS.from_documents(docs, cached_embeddings)\n",
    "\n",
    "retriever = vectorStore.as_retriever()\n",
    "\n",
    "prompt = ChatPromptTemplate.from_messages([\n",
    "    (\"system\", \"You are a data analyst. Answer questions using only the given context. If you don't know the answer, just say you don't know. Do NOT make it up. And also, do not talk about anything else:\\n{context}\"),\n",
    "    (\"human\", \"{question}\")\n",
    "])\n",
    "\n",
    "chain = {\n",
    "    \"context\": retriever,\n",
    "    \"question\": RunnablePassthrough()\n",
    "    } | prompt | llm\n",
    "\n",
    "chain.invoke(\"Tell me about the data. Answer in Korean.\")"
   ]
  }
 ],
 "metadata": {
  "kernelspec": {
   "display_name": "env",
   "language": "python",
   "name": "python3"
  },
  "language_info": {
   "codemirror_mode": {
    "name": "ipython",
    "version": 3
   },
   "file_extension": ".py",
   "mimetype": "text/x-python",
   "name": "python",
   "nbconvert_exporter": "python",
   "pygments_lexer": "ipython3",
   "version": "3.11.7"
  }
 },
 "nbformat": 4,
 "nbformat_minor": 2
}
